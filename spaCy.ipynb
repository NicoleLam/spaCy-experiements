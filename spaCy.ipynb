{
  "nbformat": 4,
  "nbformat_minor": 0,
  "metadata": {
    "colab": {
      "name": "spaCy.ipynb",
      "version": "0.3.2",
      "provenance": [],
      "collapsed_sections": []
    },
    "kernelspec": {
      "name": "python3",
      "display_name": "Python 3"
    }
  },
  "cells": [
    {
      "metadata": {
        "id": "53RAdAwC-Uvf",
        "colab_type": "code",
        "colab": {}
      },
      "cell_type": "code",
      "source": [
        "import spacy"
      ],
      "execution_count": 0,
      "outputs": []
    },
    {
      "metadata": {
        "id": "9Gjk4meM-Znr",
        "colab_type": "code",
        "colab": {}
      },
      "cell_type": "code",
      "source": [
        "nlp = spacy.load(\"en_core_web_sm\")"
      ],
      "execution_count": 0,
      "outputs": []
    },
    {
      "metadata": {
        "id": "PhHXV33G-iKr",
        "colab_type": "code",
        "colab": {}
      },
      "cell_type": "code",
      "source": [
        "doc = nlp('Along with the ubiquitous use of social media, false information is not rare nowadays. A large amount of people acquire news on the Web instead of newspapers as it is convenient to access to the news through computers, and portable devices such as laptops and smart phones. Consequently, it is important to identify if the claims are true or not as rumours can cause severe consequences such as social anxiety. Nevertheless, with the high volume of information, it is not easy to classify all the rumours on social media just by human. Thus, we need computers to do this work for us which will be more efficient and more feasible. Toronto is a big city. Ottawa is the capital of Canada')"
      ],
      "execution_count": 0,
      "outputs": []
    },
    {
      "metadata": {
        "id": "TuOzPz1ScDp-",
        "colab_type": "code",
        "colab": {
          "base_uri": "https://localhost:8080/",
          "height": 34
        },
        "outputId": "09bdff3d-e0b7-48ea-f7c0-576be2e5f24d"
      },
      "cell_type": "code",
      "source": [
        "len(doc)"
      ],
      "execution_count": 41,
      "outputs": [
        {
          "output_type": "execute_result",
          "data": {
            "text/plain": [
              "133"
            ]
          },
          "metadata": {
            "tags": []
          },
          "execution_count": 41
        }
      ]
    },
    {
      "metadata": {
        "id": "jB9Z10tUdCPu",
        "colab_type": "code",
        "colab": {
          "base_uri": "https://localhost:8080/",
          "height": 34
        },
        "outputId": "351a4d05-cc5c-4428-ef43-aa5c2aeed223"
      },
      "cell_type": "code",
      "source": [
        "doc.text[8]"
      ],
      "execution_count": 42,
      "outputs": [
        {
          "output_type": "execute_result",
          "data": {
            "text/plain": [
              "'t'"
            ]
          },
          "metadata": {
            "tags": []
          },
          "execution_count": 42
        }
      ]
    },
    {
      "metadata": {
        "id": "kFmBwjFldLEV",
        "colab_type": "code",
        "colab": {
          "base_uri": "https://localhost:8080/",
          "height": 34
        },
        "outputId": "377c06ca-2f28-4123-b4c7-0cfce80aec6d"
      },
      "cell_type": "code",
      "source": [
        "doc[8].text"
      ],
      "execution_count": 44,
      "outputs": [
        {
          "output_type": "execute_result",
          "data": {
            "text/plain": [
              "','"
            ]
          },
          "metadata": {
            "tags": []
          },
          "execution_count": 44
        }
      ]
    },
    {
      "metadata": {
        "id": "aYUujgcvcEJ0",
        "colab_type": "text"
      },
      "cell_type": "markdown",
      "source": [
        "entity recognizer"
      ]
    },
    {
      "metadata": {
        "id": "6cO54Nrv--oO",
        "colab_type": "code",
        "colab": {
          "base_uri": "https://localhost:8080/",
          "height": 67
        },
        "outputId": "f3c6c0b0-539e-4ac8-f52c-5c4128851ca4"
      },
      "cell_type": "code",
      "source": [
        "for ent in doc.ents:\n",
        "    print(ent.text, ent.start_char, ent.end_char, ent.label_)"
      ],
      "execution_count": 33,
      "outputs": [
        {
          "output_type": "stream",
          "text": [
            "Toronto 631 638 GPE\n",
            "Ottawa 654 660 GPE\n",
            "Canada 679 685 GPE\n"
          ],
          "name": "stdout"
        }
      ]
    },
    {
      "metadata": {
        "id": "0dCjbi5I_OHQ",
        "colab_type": "code",
        "colab": {
          "base_uri": "https://localhost:8080/",
          "height": 34
        },
        "outputId": "ca74f4b3-e981-4201-d782-adfbf06da097"
      },
      "cell_type": "code",
      "source": [
        "doc.ents"
      ],
      "execution_count": 34,
      "outputs": [
        {
          "output_type": "execute_result",
          "data": {
            "text/plain": [
              "(Toronto, Ottawa, Canada)"
            ]
          },
          "metadata": {
            "tags": []
          },
          "execution_count": 34
        }
      ]
    },
    {
      "metadata": {
        "id": "oXys_qIrcGrN",
        "colab_type": "text"
      },
      "cell_type": "markdown",
      "source": [
        "sentence tokenization"
      ]
    },
    {
      "metadata": {
        "id": "tAdBlDWr_gEh",
        "colab_type": "code",
        "colab": {
          "base_uri": "https://localhost:8080/",
          "height": 272
        },
        "outputId": "f1aa1ba0-3a93-46ff-9f8e-841598957d38"
      },
      "cell_type": "code",
      "source": [
        "for sent in doc.sents:\n",
        "  print(sent)\n",
        "  print(len(sent))"
      ],
      "execution_count": 35,
      "outputs": [
        {
          "output_type": "stream",
          "text": [
            "Along with the ubiquitous use of social media, false information is not rare nowadays.\n",
            "16\n",
            "A large amount of people acquire news on the Web instead of newspapers as it is convenient to access to the news through computers, and portable devices such as laptops and smart phones.\n",
            "35\n",
            "Consequently, it is important to identify if the claims are true or not as rumours can cause severe consequences such as social anxiety.\n",
            "25\n",
            "Nevertheless, with the high volume of information, it is not easy to classify all the rumours on social media just by human.\n",
            "25\n",
            "Thus, we need computers to do this work for us which will be more efficient and more feasible.\n",
            "20\n",
            "Toronto is a big city.\n",
            "6\n",
            "Ottawa is the capital of Canada\n",
            "6\n"
          ],
          "name": "stdout"
        }
      ]
    },
    {
      "metadata": {
        "id": "wa5xjbarAWme",
        "colab_type": "code",
        "colab": {
          "base_uri": "https://localhost:8080/",
          "height": 34
        },
        "outputId": "8fcd4c8f-d63a-4d72-f566-17419dfdd99e"
      },
      "cell_type": "code",
      "source": [
        "type(sent)"
      ],
      "execution_count": 36,
      "outputs": [
        {
          "output_type": "execute_result",
          "data": {
            "text/plain": [
              "spacy.tokens.span.Span"
            ]
          },
          "metadata": {
            "tags": []
          },
          "execution_count": 36
        }
      ]
    },
    {
      "metadata": {
        "id": "7XcDAUpGcLSg",
        "colab_type": "text"
      },
      "cell_type": "markdown",
      "source": [
        "shows the position of start and end tokens in a sentence (span class)"
      ]
    },
    {
      "metadata": {
        "id": "NOC6c8DcAiRH",
        "colab_type": "code",
        "colab": {
          "base_uri": "https://localhost:8080/",
          "height": 34
        },
        "outputId": "f40c3953-2932-4ee8-fc0b-532b9f3e560c"
      },
      "cell_type": "code",
      "source": [
        "sent.start"
      ],
      "execution_count": 37,
      "outputs": [
        {
          "output_type": "execute_result",
          "data": {
            "text/plain": [
              "127"
            ]
          },
          "metadata": {
            "tags": []
          },
          "execution_count": 37
        }
      ]
    },
    {
      "metadata": {
        "id": "qBuKVeF2BLkO",
        "colab_type": "code",
        "colab": {
          "base_uri": "https://localhost:8080/",
          "height": 34
        },
        "outputId": "f855457a-8820-4298-ff9e-cf100025defa"
      },
      "cell_type": "code",
      "source": [
        "sent.end"
      ],
      "execution_count": 38,
      "outputs": [
        {
          "output_type": "execute_result",
          "data": {
            "text/plain": [
              "133"
            ]
          },
          "metadata": {
            "tags": []
          },
          "execution_count": 38
        }
      ]
    },
    {
      "metadata": {
        "id": "QQ7Oei0EAucQ",
        "colab_type": "code",
        "colab": {
          "base_uri": "https://localhost:8080/",
          "height": 34
        },
        "outputId": "6e783ef4-45d4-487a-b84a-7f98606b313b"
      },
      "cell_type": "code",
      "source": [
        "sent"
      ],
      "execution_count": 39,
      "outputs": [
        {
          "output_type": "execute_result",
          "data": {
            "text/plain": [
              "Ottawa is the capital of Canada"
            ]
          },
          "metadata": {
            "tags": []
          },
          "execution_count": 39
        }
      ]
    },
    {
      "metadata": {
        "id": "_zeERdG9AzJo",
        "colab_type": "code",
        "colab": {
          "base_uri": "https://localhost:8080/",
          "height": 34
        },
        "outputId": "a1469838-6c4f-4444-d6e0-293716375084"
      },
      "cell_type": "code",
      "source": [
        "len(sent)"
      ],
      "execution_count": 40,
      "outputs": [
        {
          "output_type": "execute_result",
          "data": {
            "text/plain": [
              "6"
            ]
          },
          "metadata": {
            "tags": []
          },
          "execution_count": 40
        }
      ]
    },
    {
      "metadata": {
        "id": "24XHz8BlBV0E",
        "colab_type": "code",
        "colab": {}
      },
      "cell_type": "code",
      "source": [
        "from spacy.tokens import Token\n",
        "fruit_getter = lambda token: token.text in (u\"apple\", u\"pear\", u\"banana\")\n",
        "Token.set_extension(\"is_fruit\", getter=fruit_getter, force=True)"
      ],
      "execution_count": 0,
      "outputs": []
    },
    {
      "metadata": {
        "id": "T_i843I_pC6J",
        "colab_type": "code",
        "colab": {}
      },
      "cell_type": "code",
      "source": [
        "doc = nlp(u\"I have an apple and orange and pear\")"
      ],
      "execution_count": 0,
      "outputs": []
    },
    {
      "metadata": {
        "id": "LP0FOXtjFv7e",
        "colab_type": "code",
        "colab": {
          "base_uri": "https://localhost:8080/",
          "height": 34
        },
        "outputId": "ebe1b651-238d-42d2-ccf3-337e189d817f"
      },
      "cell_type": "code",
      "source": [
        "doc[3]._.is_fruit"
      ],
      "execution_count": 79,
      "outputs": [
        {
          "output_type": "execute_result",
          "data": {
            "text/plain": [
              "True"
            ]
          },
          "metadata": {
            "tags": []
          },
          "execution_count": 79
        }
      ]
    },
    {
      "metadata": {
        "id": "jEJKfWuaot0h",
        "colab_type": "code",
        "colab": {
          "base_uri": "https://localhost:8080/",
          "height": 34
        },
        "outputId": "a187b502-9688-4832-f92a-d0f5c618f72a"
      },
      "cell_type": "code",
      "source": [
        "doc[5]._.is_fruit"
      ],
      "execution_count": 80,
      "outputs": [
        {
          "output_type": "execute_result",
          "data": {
            "text/plain": [
              "False"
            ]
          },
          "metadata": {
            "tags": []
          },
          "execution_count": 80
        }
      ]
    },
    {
      "metadata": {
        "id": "UtKgNO-4qd9F",
        "colab_type": "code",
        "colab": {
          "base_uri": "https://localhost:8080/",
          "height": 34
        },
        "outputId": "0ad29122-a722-4bbc-e375-f61db37ffa4c"
      },
      "cell_type": "code",
      "source": [
        "doc[7]._.is_fruit"
      ],
      "execution_count": 81,
      "outputs": [
        {
          "output_type": "execute_result",
          "data": {
            "text/plain": [
              "True"
            ]
          },
          "metadata": {
            "tags": []
          },
          "execution_count": 81
        }
      ]
    },
    {
      "metadata": {
        "id": "IgkiG3dAnOol",
        "colab_type": "text"
      },
      "cell_type": "markdown",
      "source": [
        "similarity"
      ]
    },
    {
      "metadata": {
        "id": "p8_YQJNbFx7u",
        "colab_type": "code",
        "colab": {
          "base_uri": "https://localhost:8080/",
          "height": 34
        },
        "outputId": "03f8b28b-a3dc-45b8-f43a-5c19b14bad58"
      },
      "cell_type": "code",
      "source": [
        "apples = nlp(u\"I like apples\")\n",
        "oranges = nlp(u\"I like oranges\")\n",
        "apples_oranges = apples.similarity(oranges)\n",
        "apples_oranges"
      ],
      "execution_count": 53,
      "outputs": [
        {
          "output_type": "execute_result",
          "data": {
            "text/plain": [
              "0.9314620260888731"
            ]
          },
          "metadata": {
            "tags": []
          },
          "execution_count": 53
        }
      ]
    },
    {
      "metadata": {
        "id": "bV8ONOdqnRpe",
        "colab_type": "code",
        "colab": {
          "base_uri": "https://localhost:8080/",
          "height": 34
        },
        "outputId": "eeb0ab9d-fcc8-47fe-cef2-799d9cbcada6"
      },
      "cell_type": "code",
      "source": [
        "apples = nlp(u\"I don't like apples\")\n",
        "oranges = nlp(u\"I like apples\")\n",
        "apples_oranges = apples.similarity(oranges)\n",
        "apples_oranges"
      ],
      "execution_count": 52,
      "outputs": [
        {
          "output_type": "execute_result",
          "data": {
            "text/plain": [
              "0.6514888439486095"
            ]
          },
          "metadata": {
            "tags": []
          },
          "execution_count": 52
        }
      ]
    },
    {
      "metadata": {
        "id": "4RyIHc-lnS5m",
        "colab_type": "code",
        "colab": {
          "base_uri": "https://localhost:8080/",
          "height": 34
        },
        "outputId": "c12e9980-8b45-4777-a750-e736f8067aa7"
      },
      "cell_type": "code",
      "source": [
        "apples = nlp(u\"I don't like apples\")\n",
        "oranges = nlp(u\"I like oranges\")\n",
        "apples_oranges = apples.similarity(oranges)\n",
        "apples_oranges"
      ],
      "execution_count": 54,
      "outputs": [
        {
          "output_type": "execute_result",
          "data": {
            "text/plain": [
              "0.630260405593312"
            ]
          },
          "metadata": {
            "tags": []
          },
          "execution_count": 54
        }
      ]
    },
    {
      "metadata": {
        "id": "3o0gDwqDnpIA",
        "colab_type": "code",
        "colab": {
          "base_uri": "https://localhost:8080/",
          "height": 34
        },
        "outputId": "fc3bf680-41f1-444b-d84d-c11d438c8afe"
      },
      "cell_type": "code",
      "source": [
        "apples = nlp(u\"I don't like apples\")\n",
        "oranges = nlp(u\"I don't like oranges\")\n",
        "apples_oranges = apples.similarity(oranges)\n",
        "apples_oranges"
      ],
      "execution_count": 55,
      "outputs": [
        {
          "output_type": "execute_result",
          "data": {
            "text/plain": [
              "0.9695348792098539"
            ]
          },
          "metadata": {
            "tags": []
          },
          "execution_count": 55
        }
      ]
    },
    {
      "metadata": {
        "id": "ZTPBPb4lntY4",
        "colab_type": "code",
        "colab": {
          "base_uri": "https://localhost:8080/",
          "height": 34
        },
        "outputId": "629333a1-deb8-41b3-ec0e-b922554b9ecc"
      },
      "cell_type": "code",
      "source": [
        "apples = nlp(u\"it's sunny today\")\n",
        "oranges = nlp(u\"I don't like oranges\")\n",
        "apples_oranges = apples.similarity(oranges)\n",
        "apples_oranges"
      ],
      "execution_count": 56,
      "outputs": [
        {
          "output_type": "execute_result",
          "data": {
            "text/plain": [
              "0.17121169947741854"
            ]
          },
          "metadata": {
            "tags": []
          },
          "execution_count": 56
        }
      ]
    },
    {
      "metadata": {
        "id": "a08S8pE6n2kJ",
        "colab_type": "code",
        "colab": {
          "base_uri": "https://localhost:8080/",
          "height": 34
        },
        "outputId": "0fee5d77-23c1-4597-c21a-a87b20c8a558"
      },
      "cell_type": "code",
      "source": [
        "apples = nlp(u\"it's sunny today\")\n",
        "oranges = nlp(u\"what a beautiful day\")\n",
        "apples_oranges = apples.similarity(oranges)\n",
        "apples_oranges"
      ],
      "execution_count": 57,
      "outputs": [
        {
          "output_type": "execute_result",
          "data": {
            "text/plain": [
              "0.5546957938400316"
            ]
          },
          "metadata": {
            "tags": []
          },
          "execution_count": 57
        }
      ]
    },
    {
      "metadata": {
        "id": "VOIIgpSFn5y6",
        "colab_type": "code",
        "colab": {
          "base_uri": "https://localhost:8080/",
          "height": 34
        },
        "outputId": "73be1cf2-4af8-4d4e-be4f-ee1c87ce206f"
      },
      "cell_type": "code",
      "source": [
        "apples = nlp(u\"it's sunny today\")\n",
        "oranges = nlp(u\"it's raining\")\n",
        "apples_oranges = apples.similarity(oranges)\n",
        "apples_oranges"
      ],
      "execution_count": 58,
      "outputs": [
        {
          "output_type": "execute_result",
          "data": {
            "text/plain": [
              "0.7023324131678296"
            ]
          },
          "metadata": {
            "tags": []
          },
          "execution_count": 58
        }
      ]
    },
    {
      "metadata": {
        "id": "ECBOF7JZn9_S",
        "colab_type": "code",
        "colab": {
          "base_uri": "https://localhost:8080/",
          "height": 34
        },
        "outputId": "b81de32b-6b9d-482f-9859-61e091a1e787"
      },
      "cell_type": "code",
      "source": [
        "doc = nlp(u\"green apples and red oranges\")\n",
        "green_apples = doc[:2]\n",
        "red_oranges = doc[3:]\n",
        "apples_oranges = green_apples.similarity(red_oranges)\n",
        "apples_oranges"
      ],
      "execution_count": 82,
      "outputs": [
        {
          "output_type": "execute_result",
          "data": {
            "text/plain": [
              "0.6761605670719485"
            ]
          },
          "metadata": {
            "tags": []
          },
          "execution_count": 82
        }
      ]
    },
    {
      "metadata": {
        "id": "9rau9v4Iu6B7",
        "colab_type": "text"
      },
      "cell_type": "markdown",
      "source": [
        "green and red"
      ]
    },
    {
      "metadata": {
        "id": "OyYnXRjfulvx",
        "colab_type": "code",
        "colab": {
          "base_uri": "https://localhost:8080/",
          "height": 34
        },
        "outputId": "9a1558e1-0d21-418b-b7b9-a23d0268fc16"
      },
      "cell_type": "code",
      "source": [
        "doc[0].similarity(doc[3])"
      ],
      "execution_count": 85,
      "outputs": [
        {
          "output_type": "execute_result",
          "data": {
            "text/plain": [
              "0.6014775"
            ]
          },
          "metadata": {
            "tags": []
          },
          "execution_count": 85
        }
      ]
    },
    {
      "metadata": {
        "id": "KPwAjaeQu_sM",
        "colab_type": "text"
      },
      "cell_type": "markdown",
      "source": [
        "apples and oranges"
      ]
    },
    {
      "metadata": {
        "id": "1Z1bLrxuuncp",
        "colab_type": "code",
        "colab": {
          "base_uri": "https://localhost:8080/",
          "height": 34
        },
        "outputId": "e230a91b-e02d-49cb-d036-872f11f526ba"
      },
      "cell_type": "code",
      "source": [
        "doc[1].similarity(doc[4])"
      ],
      "execution_count": 87,
      "outputs": [
        {
          "output_type": "execute_result",
          "data": {
            "text/plain": [
              "0.7010721"
            ]
          },
          "metadata": {
            "tags": []
          },
          "execution_count": 87
        }
      ]
    },
    {
      "metadata": {
        "id": "FqP6InNXwlDD",
        "colab_type": "code",
        "colab": {}
      },
      "cell_type": "code",
      "source": [
        ""
      ],
      "execution_count": 0,
      "outputs": []
    },
    {
      "metadata": {
        "id": "yM8-bE2zwlRi",
        "colab_type": "text"
      },
      "cell_type": "markdown",
      "source": [
        "Tokenizer"
      ]
    },
    {
      "metadata": {
        "id": "4lsBbzxXuyg7",
        "colab_type": "code",
        "colab": {}
      },
      "cell_type": "code",
      "source": [
        "from spacy.lang.en import English\n",
        "tokenizer = English().Defaults.create_tokenizer(nlp)"
      ],
      "execution_count": 0,
      "outputs": []
    },
    {
      "metadata": {
        "id": "REBlYpzywziW",
        "colab_type": "code",
        "colab": {}
      },
      "cell_type": "code",
      "source": [
        "token = tokenizer(\"Along with the ubiquitous use of social media, false information is not rare nowadays. Ottawa is the capital of Canada\")"
      ],
      "execution_count": 0,
      "outputs": []
    },
    {
      "metadata": {
        "id": "G9QyY795w_5n",
        "colab_type": "code",
        "colab": {
          "base_uri": "https://localhost:8080/",
          "height": 386
        },
        "outputId": "701fa0db-4720-4a4d-a621-699be692d387"
      },
      "cell_type": "code",
      "source": [
        "for i in token:\n",
        "  print(i)"
      ],
      "execution_count": 107,
      "outputs": [
        {
          "output_type": "stream",
          "text": [
            "Along\n",
            "with\n",
            "the\n",
            "ubiquitous\n",
            "use\n",
            "of\n",
            "social\n",
            "media\n",
            ",\n",
            "false\n",
            "information\n",
            "is\n",
            "not\n",
            "rare\n",
            "nowadays\n",
            ".\n",
            "Ottawa\n",
            "is\n",
            "the\n",
            "capital\n",
            "of\n",
            "Canada\n"
          ],
          "name": "stdout"
        }
      ]
    },
    {
      "metadata": {
        "id": "ISNSZG1Sxr3s",
        "colab_type": "code",
        "colab": {}
      },
      "cell_type": "code",
      "source": [
        "from spacy.lang.en import English\n",
        "\n",
        "nlp = English()\n",
        "sentencizer = nlp.create_pipe(\"sentencizer\")\n",
        "nlp.add_pipe(sentencizer)\n",
        "doc = nlp(u'Along with the ubiquitous use of social media, false information is not rare nowadays. A large amount of people acquire news on the Web instead of newspapers as it is convenient to access to the news through computers, and portable devices such as laptops and smart phones. Consequently, it is important to identify if the claims are true or not as rumours can cause severe consequences such as social anxiety. Nevertheless, with the high volume of information, it is not easy to classify all the rumours on social media just by human. Thus, we need computers to do this work for us which will be more efficient and more feasible. Toronto is a big city. Ottawa is the capital of Canada')"
      ],
      "execution_count": 0,
      "outputs": []
    },
    {
      "metadata": {
        "id": "zXAaMRab1QCo",
        "colab_type": "code",
        "colab": {
          "base_uri": "https://localhost:8080/",
          "height": 154
        },
        "outputId": "8faaaf40-10a6-4396-ec2f-6afd877b5544"
      },
      "cell_type": "code",
      "source": [
        "for i in doc.sents:\n",
        "  print(i)"
      ],
      "execution_count": 113,
      "outputs": [
        {
          "output_type": "stream",
          "text": [
            "Along with the ubiquitous use of social media, false information is not rare nowadays.\n",
            "A large amount of people acquire news on the Web instead of newspapers as it is convenient to access to the news through computers, and portable devices such as laptops and smart phones.\n",
            "Consequently, it is important to identify if the claims are true or not as rumours can cause severe consequences such as social anxiety.\n",
            "Nevertheless, with the high volume of information, it is not easy to classify all the rumours on social media just by human.\n",
            "Thus, we need computers to do this work for us which will be more efficient and more feasible.\n",
            "Toronto is a big city.\n",
            "Ottawa is the capital of Canada\n"
          ],
          "name": "stdout"
        }
      ]
    },
    {
      "metadata": {
        "id": "-sGlmlLj2AFk",
        "colab_type": "code",
        "colab": {}
      },
      "cell_type": "code",
      "source": [
        ""
      ],
      "execution_count": 0,
      "outputs": []
    }
  ]
}